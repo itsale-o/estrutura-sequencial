{
 "cells": [
  {
   "cell_type": "markdown",
   "id": "bb0f9514",
   "metadata": {},
   "source": [
    "# Lista de Estrutura Sequencial"
   ]
  },
  {
   "cell_type": "markdown",
   "id": "4e7a8c30",
   "metadata": {},
   "source": [
    "#### 1. Faça um Programa que mostre a mensagem (print) \"Alô, mundo\" na tela."
   ]
  },
  {
   "cell_type": "code",
   "execution_count": null,
   "id": "883bfe85",
   "metadata": {},
   "outputs": [],
   "source": [
    "print('Alô, mundo')"
   ]
  },
  {
   "cell_type": "markdown",
   "id": "71d6d6a2",
   "metadata": {},
   "source": [
    "#### 2. Faça um Programa que peça um número (input) e então mostre a mensagem: \"O número informado foi [número].\""
   ]
  },
  {
   "cell_type": "code",
   "execution_count": null,
   "id": "30cfffcf",
   "metadata": {},
   "outputs": [],
   "source": [
    "num = input('Insira um número: ')\n",
    "print(f'O número inserido foi: {num}')"
   ]
  },
  {
   "cell_type": "markdown",
   "id": "c5e43160",
   "metadata": {},
   "source": [
    "#### 3. Faça um Programa que peça dois números e imprima a soma."
   ]
  },
  {
   "cell_type": "code",
   "execution_count": null,
   "id": "b0e79590",
   "metadata": {},
   "outputs": [],
   "source": [
    "num1 = float(input('Insira um número: '))\n",
    "num2 = float(input('Insira outro número: '))\n",
    "\n",
    "print(f'A soma dos números é: {num1 + num2}')"
   ]
  },
  {
   "cell_type": "markdown",
   "id": "17826987",
   "metadata": {},
   "source": [
    "#### 4. Faça um Programa que peça as 4 notas bimestrais de um aluno e mostre a média de todas as notas."
   ]
  },
  {
   "cell_type": "code",
   "execution_count": null,
   "id": "23b66762",
   "metadata": {},
   "outputs": [],
   "source": [
    "nota1 = float(input('Nota 1: '))\n",
    "nota2 = float(input('Nota 2: '))\n",
    "nota3 = float(input('Nota 3: '))\n",
    "nota4 = float(input('Nota 4: '))\n",
    "media = (nota1 + nota2 + nota3 + nota4) / 4\n",
    "\n",
    "print(f'Média Final: {media:.1f}')"
   ]
  },
  {
   "cell_type": "markdown",
   "id": "62d461c5",
   "metadata": {},
   "source": [
    "#### 5. Faça um Programa que converta metros para centímetros. Você pode pedir o comprimento em metros para o usuário (input)."
   ]
  },
  {
   "cell_type": "code",
   "execution_count": null,
   "id": "d642f1ba",
   "metadata": {
    "scrolled": true
   },
   "outputs": [],
   "source": [
    "m = float(input('Insira uma medida (em m): '))\n",
    "cm = m * 100\n",
    "\n",
    "print(f'A medida equivale a {cm:.2f} cm')"
   ]
  },
  {
   "cell_type": "markdown",
   "id": "4cb927c4",
   "metadata": {},
   "source": [
    "#### 6. Faça um Programa que peça o raio de um círculo, calcule e mostre sua área"
   ]
  },
  {
   "cell_type": "code",
   "execution_count": null,
   "id": "6f2320d1",
   "metadata": {
    "scrolled": true
   },
   "outputs": [],
   "source": [
    "import math\n",
    "\n",
    "raio = float(input('Raio do círculo: '))\n",
    "pi = math.pi\n",
    "area = pi * (raio**2)\n",
    "\n",
    "print(f'Área do círculo: {area:.2f}')"
   ]
  },
  {
   "cell_type": "markdown",
   "id": "5d14a1b9",
   "metadata": {},
   "source": [
    "#### 7. Faça um Programa que calcule a área de um quadrado, em seguida mostre o dobro desta área para o usuário"
   ]
  },
  {
   "cell_type": "code",
   "execution_count": null,
   "id": "2d601b77",
   "metadata": {},
   "outputs": [],
   "source": [
    "lado = float(input('Lado do quadrado: '))\n",
    "area = lado ** 2\n",
    "dobro_area = area * 2\n",
    "\n",
    "print(f'Área: {area:.2f}')\n",
    "print(f'Dobro da área: {dobro_area:.2f}')"
   ]
  },
  {
   "cell_type": "markdown",
   "id": "2a285929",
   "metadata": {},
   "source": [
    "#### 8. Faça um Programa que pergunte quanto você ganha por hora e o número de horas trabalhadas no mês. Calcule e mostre o total do seu salário no referido mês."
   ]
  },
  {
   "cell_type": "code",
   "execution_count": null,
   "id": "359e2232",
   "metadata": {},
   "outputs": [],
   "source": [
    "valor_hora = float(input('Valor recebido por hora: R$ '))\n",
    "horas_trabalho = float(input('Horas trabalhadas no mês: '))\n",
    "salario_mes = valor_hora * horas_trabalho\n",
    "\n",
    "print(f'Salário total do mês: R${salario_mes:,.2f}')"
   ]
  },
  {
   "cell_type": "markdown",
   "id": "7e2d4615",
   "metadata": {},
   "source": [
    "#### 9. Faça um Programa que peça a temperatura em graus Fahrenheit, transforme e mostre a temperatura em graus Celsius.\n",
    "$C = \\frac{5}{9}(F-32)$"
   ]
  },
  {
   "cell_type": "code",
   "execution_count": null,
   "id": "82daf9fd",
   "metadata": {},
   "outputs": [],
   "source": [
    "F = float(input('Temperatura (em °F): '))\n",
    "C = (5*(F - 32)) / 9\n",
    "\n",
    "print(f'Temperatura: {C:.1f} °C')"
   ]
  },
  {
   "cell_type": "markdown",
   "id": "20708b1c",
   "metadata": {},
   "source": [
    "#### 10. Faça um Programa que peça a temperatura em graus Celsius, transforme e mostre em graus Fahrenheit.\n",
    "$F = \\frac{9}{5}C + 32$"
   ]
  },
  {
   "cell_type": "code",
   "execution_count": null,
   "id": "c73cfb38",
   "metadata": {
    "scrolled": true
   },
   "outputs": [],
   "source": [
    "C = float(input('Temperatura (em °C): '))\n",
    "F = ((9 * C) / 5) + 32\n",
    "\n",
    "print(f'Temperatura: {F:.1f} °F')"
   ]
  },
  {
   "cell_type": "markdown",
   "id": "df5b98a4",
   "metadata": {},
   "source": [
    "#### 11. Faça um Programa que peça 2 números inteiros e um número real. Calcule e mostre:\n",
    "\n",
    "- a) o produto do dobro do primeiro com metade do segundo\n",
    "- b) a soma do triplo do primeiro com o terceiro"
   ]
  },
  {
   "cell_type": "code",
   "execution_count": null,
   "id": "31f2e9ce",
   "metadata": {},
   "outputs": [],
   "source": [
    "num1 = int(input('Primeiro número: '))\n",
    "num2 = int(input('Segundo número: '))\n",
    "num3 = float(input('Terceiro número: '))\n",
    "a = (2 * num1) * (num2 / 2)\n",
    "b = (3 * num1) + num3\n",
    "\n",
    "print(f'Produto do dobro do primeiro número com metade do segundo: {a:.0f}')\n",
    "print(f'Soma do triplo do primeiro com o terceiro: {b:.0f}')"
   ]
  },
  {
   "cell_type": "markdown",
   "id": "b263a9dc",
   "metadata": {},
   "source": [
    "#### 12. Tendo como dados de entrada a altura (h) de uma pessoa, construa um algoritmo que calcule seu peso ideal, usando a seguinte fórmula:\n",
    "$P = 72,7h - 58$"
   ]
  },
  {
   "cell_type": "code",
   "execution_count": null,
   "id": "9a9b8dca",
   "metadata": {},
   "outputs": [],
   "source": [
    "h = float(input('Altura (em metros): '))\n",
    "p = (72.7 * h) - 58\n",
    "\n",
    "print(f'O peso ideal para uma pessoa desta altura é: {p:.2f} kg')"
   ]
  },
  {
   "cell_type": "markdown",
   "id": "13bb40d7",
   "metadata": {},
   "source": [
    "#### 13. Tendo como dado de entrada a altura (h) de uma pessoa, construa um algoritmo que calcule seu peso ideal, utilizando as seguintes fórmulas:\n",
    "##### a. Para homens: $P = 72,7h - 58$\n",
    "##### b. Para mulheres: $P = 62,1h - 44,7$"
   ]
  },
  {
   "cell_type": "code",
   "execution_count": null,
   "id": "bf82dc8c",
   "metadata": {},
   "outputs": [],
   "source": [
    "h = float(input('Altura (em metros): '))\n",
    "p_mulheres = (62.1 * h) - 44.7\n",
    "p_homens = (72.7 * h) - 58\n",
    "\n",
    "print(f'O peso ideal para uma mulher com esta altura é: {p_mulheres:.2f} kg')\n",
    "print(f'O peso ideal para um homem com esta altura é: {p_homens:.2f} kg')"
   ]
  },
  {
   "cell_type": "markdown",
   "id": "a674b002",
   "metadata": {},
   "source": [
    "#### 14. João Papo-de-Pescador, homem de bem\n",
    "\n",
    "Comprou um microcomputador para controlar o rendimento diário de seu trabalho. Toda vez que ele traz um peso de peixes maior que o establecido pelo regulamento de pesca do estado de São Paulo (50 kg) deve pagar uma multa de R$ 4,00 por quilo excedente.\n",
    "\n",
    "João precisa que você faça um programa que leia a variável peso (peso de peixes) e calcule o excesso. Gravar na variável excesso a quantidade de quilos além do limite e na variável multa o valor da multa que João devrá pagar. Imprima com as mensagens adequadas."
   ]
  },
  {
   "cell_type": "code",
   "execution_count": null,
   "id": "fdd1c577",
   "metadata": {},
   "outputs": [],
   "source": [
    "peso = float(input('Peso de peixes (em kg): '))\n",
    "\n",
    "if peso <= 50:\n",
    "    print('Não houve excesso de peso portanto não haverá multa')\n",
    "else:\n",
    "    excesso = peso - 50\n",
    "    multa = excesso * 4\n",
    "    print(f'Peso de peixes: {peso:.2f} kg\\nExcesso: {excesso:.2f} kg\\nMulta a pagar: R$ {multa:.2f}')"
   ]
  },
  {
   "cell_type": "markdown",
   "id": "f208ef89",
   "metadata": {},
   "source": [
    "#### 15. Faça um Programa que pergunte quanto você ganha por hora e o número de horas trabalhadas no mês."
   ]
  },
  {
   "cell_type": "code",
   "execution_count": null,
   "id": "2d5b23e0",
   "metadata": {},
   "outputs": [],
   "source": [
    "valor_hora = float(input('Valor pago por hora trabalhada: '))\n",
    "horas = float(input('Horas trabalhadas este mês: '))"
   ]
  },
  {
   "cell_type": "markdown",
   "id": "607dee3c",
   "metadata": {},
   "source": [
    "#####  Calcule o salário bruto (horas * salario por hora)"
   ]
  },
  {
   "cell_type": "code",
   "execution_count": null,
   "id": "7f80ccbb",
   "metadata": {},
   "outputs": [],
   "source": [
    "salario_bruto = valor_hora * horas"
   ]
  },
  {
   "cell_type": "markdown",
   "id": "2ed93cb0",
   "metadata": {},
   "source": [
    "##### Calcule o desconto do IR (11% do salário bruto)"
   ]
  },
  {
   "cell_type": "code",
   "execution_count": null,
   "id": "3363e22f",
   "metadata": {},
   "outputs": [],
   "source": [
    "ir = salario_bruto * 0.11"
   ]
  },
  {
   "cell_type": "markdown",
   "id": "0994b2c0",
   "metadata": {},
   "source": [
    "##### Calcule o desconto do INSS (8% do salário bruto)"
   ]
  },
  {
   "cell_type": "code",
   "execution_count": null,
   "id": "748c6088",
   "metadata": {},
   "outputs": [],
   "source": [
    "inss = salario_bruto * 0.08"
   ]
  },
  {
   "cell_type": "markdown",
   "id": "06e8dae4",
   "metadata": {},
   "source": [
    "##### Calcule o desconto do sindicato (5% do salário bruto)"
   ]
  },
  {
   "cell_type": "code",
   "execution_count": null,
   "id": "21b95b15",
   "metadata": {
    "scrolled": true
   },
   "outputs": [],
   "source": [
    "sindicato = salario_bruto * 0.05"
   ]
  },
  {
   "cell_type": "markdown",
   "id": "bb14ce36",
   "metadata": {},
   "source": [
    "##### Calcule o salário líquido (salário bruto - descontos)"
   ]
  },
  {
   "cell_type": "code",
   "execution_count": null,
   "id": "56317086",
   "metadata": {},
   "outputs": [],
   "source": [
    "salario_liquido = salario_bruto - (ir + inss + sindicato)\n",
    "\n",
    "print(f'+ Salário Bruto: R$ {salario_bruto:.2f}\\n- IR (11%): R$ {ir:.2f}\\n- INSS (8%): R$ {inss:.2f}\\n- Sindicato (5%): R$ {sindicato:.2f}\\n= Salário Líquido: R$ {salario_liquido:.2f}')"
   ]
  },
  {
   "cell_type": "markdown",
   "id": "cfbfcc87",
   "metadata": {},
   "source": [
    "#### 16. Faça um programa para uma loja de tintas. O programa deverá pedir o tamanho em metros quadrados da área a ser pintada. Considere que a cobertura da tinta é de 1 litro para cada 3 metros quadrados e que a tinta é vendida em latas de 18 litros, que custam R\\$ 80,00. Informe ao usuário a quantidades de latas de tinta a serem compradas e o preço total."
   ]
  },
  {
   "cell_type": "code",
   "execution_count": null,
   "id": "fb6a083b",
   "metadata": {
    "scrolled": true
   },
   "outputs": [],
   "source": [
    "area = float(input('Área a ser printada (m²): '))\n",
    "latas = (area / 54) # uma lata de tinta pinta 54m²  \n",
    "preco = latas * 80\n",
    "if latas == round(latas): \n",
    "    print(f'Serão necessárias {latas:.0f} latas de tinta\\nValor total: R$ {preco:.2f}')\n",
    "else:\n",
    "    latas = round(latas + 0.5) #round + 0.5 vai arredondar o valor para cima\n",
    "    preco = latas * 80\n",
    "    print(f'Serão necessárias {latas:.0f} latas de tinta\\nValor total: R$ {preco:.2f}')"
   ]
  },
  {
   "cell_type": "markdown",
   "id": "2b5af24c",
   "metadata": {},
   "source": [
    "#### 17. Faça um Programa para uma loja de tintas. O programa deverá pedir o tamanho em metros quadrados da área a ser pintada. \n",
    "\n",
    "Considere que a cobertura da tinta é de 1 litro para cada 6 metros quadrados e que a tinta é vendida em latas de 18 litros, que custam 80,00 ou em galões de 3,6 litros, que custam 25,00.\n",
    "Informe ao usuário as quantidades de tinta a serem compradas e os respectivos preços em 3 situações:\n",
    "- comprar apenas latas de 18 litros;\n",
    "- comprar apenas galões de 3,6 litros;\n",
    "- misturar latas e galões, de forma que o desperdício de tinta seja menor. Acrescente 10% de folga e sempre arredonde os valores para cima, isto é, considere latas cheias."
   ]
  },
  {
   "cell_type": "code",
   "execution_count": null,
   "id": "59a19711",
   "metadata": {
    "scrolled": true
   },
   "outputs": [],
   "source": [
    "area = float(input('Área a ser printada (m²): '))\n",
    "litros_tinta = area / 6\n",
    "\n",
    "# comprando apenas latas\n",
    "if litros_tinta % 18 > 0: # % representa o resto da divisão\n",
    "    latas = (litros_tinta // 18) + 1\n",
    "else:\n",
    "    latas = litros_tinta // 18\n",
    "preco = latas * 80\n",
    "print(f'Serão necessárias {latas:.0f} lata(s)\\nValor Total: R$ {preco:.2f}')"
   ]
  },
  {
   "cell_type": "markdown",
   "id": "9bd4dbff",
   "metadata": {},
   "source": [
    "#### Comprando apenas galões"
   ]
  },
  {
   "cell_type": "code",
   "execution_count": null,
   "id": "3b6ad643",
   "metadata": {},
   "outputs": [],
   "source": [
    "if litros_tinta % 3.6 > 0:\n",
    "    galoes = (litros_tinta // 3.6) + 1\n",
    "else:\n",
    "    galoes = litros_tinta // 3.6\n",
    "preco = galoes * 25\n",
    "print(f'Serão necessários {galoes:.0f} galões\\nValor Total: R$ {preco:.2f} no total')"
   ]
  },
  {
   "cell_type": "markdown",
   "id": "732507a3",
   "metadata": {},
   "source": [
    "#### Comprando latas + galões"
   ]
  },
  {
   "cell_type": "code",
   "execution_count": null,
   "id": "b8c814d4",
   "metadata": {},
   "outputs": [],
   "source": [
    "# comprando latas + galões\n",
    "\n",
    "# acrescentamos a folga de 10%\n",
    "litros_folga = litros_tinta * 1.1\n",
    "galoes = 0\n",
    "\n",
    "# só latas inteiras\n",
    "latas = litros_folga // 18\n",
    "\n",
    "# aqui vemos a tinta que faltou que não cabe em uma lata completa\n",
    "tinta_faltante = litros_folga - 18 * latas\n",
    "\n",
    "# tinta faltante em galões\n",
    "if tinta_faltante > 0:\n",
    "    if tinta_faltante % 3.6 > 0:\n",
    "        faltante_galoes = tinta_faltante // 3.6 + 1\n",
    "    else:\n",
    "        faltante_galoes = tinta_faltante // 3.6\n",
    "    if faltante_galoes <= 3:\n",
    "        galoes = faltante_galoes\n",
    "    else:\n",
    "        galoes = 0\n",
    "        latas = latas + 1\n",
    "\n",
    "preco = latas * 80 + galoes * 25\n",
    "print(f'São necessários {latas:.0f} latas e {galoes:.0f} galões\\nValor Total: R$ {preco}')"
   ]
  },
  {
   "cell_type": "markdown",
   "id": "d6503c92",
   "metadata": {},
   "source": [
    "#### 18. Faça um programa que peça o tamanho de um arquivo para download (em MB) e a velocidade de um link de Internet (em Mbps), calcule e informe o tempo aproximado de download do arquivo usando este link (em minutos).\n",
    "\n",
    "Detalhe: MB significa megabyte, Mb (com b minúsculo) significa megabit. Um megabit é 1/8 de um megabyte. "
   ]
  },
  {
   "cell_type": "code",
   "execution_count": null,
   "id": "0563aa62",
   "metadata": {},
   "outputs": [],
   "source": [
    "tamanho = float(input('Informe o tamanho do arquivo em MB: '))\n",
    "velocidade = float(input('Informe a velocidade da conexão em Mbps: '))\n",
    "\n",
    "# aqui trasnformamos megabytes em megabits para que tamanho e velocidade estejam na mesma unidade\n",
    "tamanho_megabits = tamanho * 8\n",
    "tempo = tamanho_megabits / velocidade\n",
    "# transformando em minutos\n",
    "tempo_minutos = tempo / 60\n",
    "print(f'O tempo de download é de {tempo_minutos:.1f} minutos')"
   ]
  }
 ],
 "metadata": {
  "kernelspec": {
   "display_name": "Python 3 (ipykernel)",
   "language": "python",
   "name": "python3"
  },
  "language_info": {
   "codemirror_mode": {
    "name": "ipython",
    "version": 3
   },
   "file_extension": ".py",
   "mimetype": "text/x-python",
   "name": "python",
   "nbconvert_exporter": "python",
   "pygments_lexer": "ipython3",
   "version": "3.9.7"
  }
 },
 "nbformat": 4,
 "nbformat_minor": 5
}
